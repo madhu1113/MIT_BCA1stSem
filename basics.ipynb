{
 "cells": [
  {
   "cell_type": "code",
   "execution_count": 1,
   "id": "0b89d0de-a8a7-4fc8-883a-669e016b0b82",
   "metadata": {},
   "outputs": [],
   "source": [
    "name = \"Vikrant\""
   ]
  },
  {
   "cell_type": "code",
   "execution_count": 3,
   "id": "de19286b-c4b0-46f4-838f-acf795f45efd",
   "metadata": {},
   "outputs": [
    {
     "data": {
      "text/plain": [
       "'Vikrant'"
      ]
     },
     "execution_count": 3,
     "metadata": {},
     "output_type": "execute_result"
    }
   ],
   "source": [
    "name"
   ]
  },
  {
   "cell_type": "code",
   "execution_count": 5,
   "id": "86086c43-72bc-47df-a486-9a63f29abf78",
   "metadata": {},
   "outputs": [
    {
     "data": {
      "text/plain": [
       "'Vikrant'"
      ]
     },
     "execution_count": 5,
     "metadata": {},
     "output_type": "execute_result"
    }
   ],
   "source": [
    "\"Vikrant\""
   ]
  },
  {
   "cell_type": "code",
   "execution_count": 7,
   "id": "4566dd58-49ca-439e-ab52-50de4054be1a",
   "metadata": {},
   "outputs": [
    {
     "data": {
      "text/plain": [
       "2"
      ]
     },
     "execution_count": 7,
     "metadata": {},
     "output_type": "execute_result"
    }
   ],
   "source": [
    "2"
   ]
  },
  {
   "cell_type": "code",
   "execution_count": 9,
   "id": "aa9e3bba-1ad6-4026-a6e2-0c355bc6b0ea",
   "metadata": {},
   "outputs": [
    {
     "data": {
      "text/plain": [
       "str"
      ]
     },
     "execution_count": 9,
     "metadata": {},
     "output_type": "execute_result"
    }
   ],
   "source": [
    "type(name)"
   ]
  },
  {
   "cell_type": "code",
   "execution_count": 23,
   "id": "93fc5f8a-a4d7-49f7-9d88-5a71450c381c",
   "metadata": {},
   "outputs": [],
   "source": [
    "a = 2"
   ]
  },
  {
   "cell_type": "code",
   "execution_count": 13,
   "id": "84eba1ac-05c5-49e5-8f3d-26559b946614",
   "metadata": {},
   "outputs": [
    {
     "data": {
      "text/plain": [
       "2"
      ]
     },
     "execution_count": 13,
     "metadata": {},
     "output_type": "execute_result"
    }
   ],
   "source": [
    "a"
   ]
  },
  {
   "cell_type": "code",
   "execution_count": 15,
   "id": "1bdc132f-00b0-4f72-ab56-08554a0b49af",
   "metadata": {},
   "outputs": [
    {
     "data": {
      "text/plain": [
       "int"
      ]
     },
     "execution_count": 15,
     "metadata": {},
     "output_type": "execute_result"
    }
   ],
   "source": [
    "type(a)"
   ]
  },
  {
   "cell_type": "code",
   "execution_count": null,
   "id": "c89bd4fd-aea2-4b26-b802-492cd7f97539",
   "metadata": {},
   "outputs": [],
   "source": []
  },
  {
   "cell_type": "code",
   "execution_count": null,
   "id": "cee7cb9a-7bf3-4452-b2af-ed8fc5612526",
   "metadata": {},
   "outputs": [],
   "source": []
  },
  {
   "cell_type": "code",
   "execution_count": 27,
   "id": "b3e8f7f8-32ab-47c1-852f-84bb32ecb762",
   "metadata": {},
   "outputs": [],
   "source": [
    "a = 7543.4574"
   ]
  },
  {
   "cell_type": "code",
   "execution_count": 29,
   "id": "80060226-74d1-462f-8635-dae07e0adf21",
   "metadata": {},
   "outputs": [
    {
     "data": {
      "text/plain": [
       "7543.4574"
      ]
     },
     "execution_count": 29,
     "metadata": {},
     "output_type": "execute_result"
    }
   ],
   "source": [
    "a"
   ]
  },
  {
   "cell_type": "code",
   "execution_count": 31,
   "id": "a2c1113c-c22b-4b23-8267-53737d88ffdb",
   "metadata": {},
   "outputs": [
    {
     "data": {
      "text/plain": [
       "float"
      ]
     },
     "execution_count": 31,
     "metadata": {},
     "output_type": "execute_result"
    }
   ],
   "source": [
    "type(a)"
   ]
  },
  {
   "cell_type": "code",
   "execution_count": 33,
   "id": "f1d675bb-0127-4838-9675-29854aad1ac9",
   "metadata": {},
   "outputs": [],
   "source": [
    "a = 7+8j"
   ]
  },
  {
   "cell_type": "code",
   "execution_count": 35,
   "id": "7c6856a4-fdc3-478c-8895-6ecf135f6d6c",
   "metadata": {},
   "outputs": [
    {
     "data": {
      "text/plain": [
       "complex"
      ]
     },
     "execution_count": 35,
     "metadata": {},
     "output_type": "execute_result"
    }
   ],
   "source": [
    "type(a)"
   ]
  },
  {
   "cell_type": "code",
   "execution_count": 37,
   "id": "5bbef5a7-e9a2-407c-af12-dfd2432ed62b",
   "metadata": {},
   "outputs": [
    {
     "data": {
      "text/plain": [
       "69"
      ]
     },
     "execution_count": 37,
     "metadata": {},
     "output_type": "execute_result"
    }
   ],
   "source": [
    "1+68"
   ]
  },
  {
   "cell_type": "code",
   "execution_count": 39,
   "id": "f802d5ae-5d4e-4755-8ca2-69fb440cb5f3",
   "metadata": {},
   "outputs": [
    {
     "data": {
      "text/plain": [
       "(7+8j)"
      ]
     },
     "execution_count": 39,
     "metadata": {},
     "output_type": "execute_result"
    }
   ],
   "source": [
    "a"
   ]
  },
  {
   "cell_type": "code",
   "execution_count": 45,
   "id": "03be2845-51fd-460d-9b87-845a92d33574",
   "metadata": {},
   "outputs": [],
   "source": [
    "n = a+a"
   ]
  },
  {
   "cell_type": "code",
   "execution_count": 47,
   "id": "81a690b4-0d83-474a-b8da-33648fdaf063",
   "metadata": {},
   "outputs": [
    {
     "data": {
      "text/plain": [
       "(14+16j)"
      ]
     },
     "execution_count": 47,
     "metadata": {},
     "output_type": "execute_result"
    }
   ],
   "source": [
    "n"
   ]
  },
  {
   "cell_type": "code",
   "execution_count": 49,
   "id": "aa6a6349-4df5-457b-aba6-c8e36f076cad",
   "metadata": {},
   "outputs": [
    {
     "data": {
      "text/plain": [
       "(-15+112j)"
      ]
     },
     "execution_count": 49,
     "metadata": {},
     "output_type": "execute_result"
    }
   ],
   "source": [
    "a*a"
   ]
  },
  {
   "cell_type": "code",
   "execution_count": 51,
   "id": "6c525b7b-75f1-41ab-904c-2222775b02e6",
   "metadata": {},
   "outputs": [
    {
     "data": {
      "text/plain": [
       "(1+0j)"
      ]
     },
     "execution_count": 51,
     "metadata": {},
     "output_type": "execute_result"
    }
   ],
   "source": [
    "a/a"
   ]
  },
  {
   "cell_type": "code",
   "execution_count": 53,
   "id": "1bb50c47-f384-4aca-b31d-6c2684f3bf19",
   "metadata": {},
   "outputs": [
    {
     "data": {
      "text/plain": [
       "1"
      ]
     },
     "execution_count": 53,
     "metadata": {},
     "output_type": "execute_result"
    }
   ],
   "source": [
    "True-False"
   ]
  },
  {
   "cell_type": "code",
   "execution_count": 55,
   "id": "73d43a88-470a-40d0-92bf-eee3c84f628d",
   "metadata": {},
   "outputs": [],
   "source": [
    "a = True"
   ]
  },
  {
   "cell_type": "code",
   "execution_count": 57,
   "id": "2696ab5d-9f01-4d9d-be6a-0fc6b6dcc741",
   "metadata": {},
   "outputs": [
    {
     "data": {
      "text/plain": [
       "True"
      ]
     },
     "execution_count": 57,
     "metadata": {},
     "output_type": "execute_result"
    }
   ],
   "source": [
    "a"
   ]
  },
  {
   "cell_type": "code",
   "execution_count": 59,
   "id": "498d5135-2253-42e1-8549-28217cf2695c",
   "metadata": {},
   "outputs": [
    {
     "data": {
      "text/plain": [
       "bool"
      ]
     },
     "execution_count": 59,
     "metadata": {},
     "output_type": "execute_result"
    }
   ],
   "source": [
    "type(a)"
   ]
  },
  {
   "cell_type": "code",
   "execution_count": 61,
   "id": "93d02c2e-ef32-4944-be16-fa4618c2fbcd",
   "metadata": {},
   "outputs": [
    {
     "data": {
      "text/plain": [
       "-1"
      ]
     },
     "execution_count": 61,
     "metadata": {},
     "output_type": "execute_result"
    }
   ],
   "source": [
    "False-True"
   ]
  },
  {
   "cell_type": "code",
   "execution_count": 63,
   "id": "b540692e-c2f0-47d1-876f-6c40da98b2b6",
   "metadata": {},
   "outputs": [
    {
     "data": {
      "text/plain": [
       "0.0"
      ]
     },
     "execution_count": 63,
     "metadata": {},
     "output_type": "execute_result"
    }
   ],
   "source": [
    "False/True"
   ]
  },
  {
   "cell_type": "code",
   "execution_count": 65,
   "id": "593756e0-5012-4846-83c9-98c612366ba8",
   "metadata": {},
   "outputs": [
    {
     "ename": "ZeroDivisionError",
     "evalue": "division by zero",
     "output_type": "error",
     "traceback": [
      "\u001b[1;31m---------------------------------------------------------------------------\u001b[0m",
      "\u001b[1;31mZeroDivisionError\u001b[0m                         Traceback (most recent call last)",
      "Cell \u001b[1;32mIn[65], line 1\u001b[0m\n\u001b[1;32m----> 1\u001b[0m \u001b[38;5;28;01mTrue\u001b[39;00m\u001b[38;5;241m/\u001b[39m\u001b[38;5;28;01mFalse\u001b[39;00m\n",
      "\u001b[1;31mZeroDivisionError\u001b[0m: division by zero"
     ]
    }
   ],
   "source": [
    "True/False"
   ]
  },
  {
   "cell_type": "code",
   "execution_count": 68,
   "id": "5d3be8cc-293b-4586-8f6b-2058b498af67",
   "metadata": {},
   "outputs": [],
   "source": [
    "name = \"Jayamala Kumbhar\""
   ]
  },
  {
   "cell_type": "code",
   "execution_count": 70,
   "id": "3c714cef-b36e-421c-b825-52a9c6ae67bb",
   "metadata": {},
   "outputs": [
    {
     "data": {
      "text/plain": [
       "'Jayamala Kumbhar'"
      ]
     },
     "execution_count": 70,
     "metadata": {},
     "output_type": "execute_result"
    }
   ],
   "source": [
    "name"
   ]
  },
  {
   "cell_type": "code",
   "execution_count": 72,
   "id": "cf24bff8-53b5-486c-ae5a-acb0884a9ed6",
   "metadata": {},
   "outputs": [
    {
     "data": {
      "text/plain": [
       "'Jayamala'"
      ]
     },
     "execution_count": 72,
     "metadata": {},
     "output_type": "execute_result"
    }
   ],
   "source": [
    "name[0:8]"
   ]
  },
  {
   "cell_type": "code",
   "execution_count": 74,
   "id": "c3a56bd1-4a35-4c7b-a135-1335ea97bd8f",
   "metadata": {},
   "outputs": [
    {
     "data": {
      "text/plain": [
       "'yamala Kumbhar'"
      ]
     },
     "execution_count": 74,
     "metadata": {},
     "output_type": "execute_result"
    }
   ],
   "source": [
    "name[2:90]"
   ]
  },
  {
   "cell_type": "code",
   "execution_count": 78,
   "id": "e848e96d-3aa9-45f7-8791-e422cdccba7b",
   "metadata": {},
   "outputs": [
    {
     "data": {
      "text/plain": [
       "'Jyml uba'"
      ]
     },
     "execution_count": 78,
     "metadata": {},
     "output_type": "execute_result"
    }
   ],
   "source": [
    "name[0:15:2]"
   ]
  },
  {
   "cell_type": "code",
   "execution_count": 80,
   "id": "cd8233ac-c12d-40dc-af5c-9ecb7e39f71b",
   "metadata": {},
   "outputs": [
    {
     "data": {
      "text/plain": [
       "'Jayamala Kumbhar'"
      ]
     },
     "execution_count": 80,
     "metadata": {},
     "output_type": "execute_result"
    }
   ],
   "source": [
    "name"
   ]
  },
  {
   "cell_type": "code",
   "execution_count": 84,
   "id": "3587bc87-6dba-4ed5-af19-ff9e12f071ca",
   "metadata": {},
   "outputs": [
    {
     "data": {
      "text/plain": [
       "'a ma'"
      ]
     },
     "execution_count": 84,
     "metadata": {},
     "output_type": "execute_result"
    }
   ],
   "source": [
    "name[5:15:3]"
   ]
  },
  {
   "cell_type": "code",
   "execution_count": 92,
   "id": "ac08be0f-0699-413a-9d3b-3f1d0902dfd0",
   "metadata": {},
   "outputs": [
    {
     "data": {
      "text/plain": [
       "'muK alamay'"
      ]
     },
     "execution_count": 92,
     "metadata": {},
     "output_type": "execute_result"
    }
   ],
   "source": [
    "name[-5:-15:-1]"
   ]
  },
  {
   "cell_type": "code",
   "execution_count": 88,
   "id": "887b380c-0a35-4ad5-bff4-5c513ac04b98",
   "metadata": {},
   "outputs": [
    {
     "data": {
      "text/plain": [
       "''"
      ]
     },
     "execution_count": 88,
     "metadata": {},
     "output_type": "execute_result"
    }
   ],
   "source": [
    "name[-5:-15]"
   ]
  },
  {
   "cell_type": "code",
   "execution_count": null,
   "id": "b5693cfc-9451-4716-9d4c-4832383d3621",
   "metadata": {},
   "outputs": [],
   "source": [
    "# GW"
   ]
  }
 ],
 "metadata": {
  "kernelspec": {
   "display_name": "Python 3 (ipykernel)",
   "language": "python",
   "name": "python3"
  },
  "language_info": {
   "codemirror_mode": {
    "name": "ipython",
    "version": 3
   },
   "file_extension": ".py",
   "mimetype": "text/x-python",
   "name": "python",
   "nbconvert_exporter": "python",
   "pygments_lexer": "ipython3",
   "version": "3.12.4"
  }
 },
 "nbformat": 4,
 "nbformat_minor": 5
}
