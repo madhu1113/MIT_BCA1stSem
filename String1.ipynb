{
 "cells": [
  {
   "cell_type": "code",
   "execution_count": 1,
   "id": "f942954a-409c-4e02-b30d-07a9d4cbd17e",
   "metadata": {},
   "outputs": [],
   "source": [
    "name = \"Pratik Kamble\""
   ]
  },
  {
   "cell_type": "code",
   "execution_count": 3,
   "id": "07326a2a-0e91-44f1-851f-aac51931b1dd",
   "metadata": {},
   "outputs": [
    {
     "data": {
      "text/plain": [
       "'Pratik Kamble'"
      ]
     },
     "execution_count": 3,
     "metadata": {},
     "output_type": "execute_result"
    }
   ],
   "source": [
    "name"
   ]
  },
  {
   "cell_type": "code",
   "execution_count": 5,
   "id": "365f0445-a702-429f-8658-fa86829bd2e7",
   "metadata": {},
   "outputs": [
    {
     "data": {
      "text/plain": [
       "'Pratik Kamble'"
      ]
     },
     "execution_count": 5,
     "metadata": {},
     "output_type": "execute_result"
    }
   ],
   "source": [
    "# Convert it into capslock\n",
    "# PRATIK KAMBLE\n",
    "name"
   ]
  },
  {
   "cell_type": "code",
   "execution_count": 11,
   "id": "e39233c5-7f48-446b-a6cc-9796df3ca7b1",
   "metadata": {},
   "outputs": [
    {
     "data": {
      "text/plain": [
       "'PRATIK KAMBLE'"
      ]
     },
     "execution_count": 11,
     "metadata": {},
     "output_type": "execute_result"
    }
   ],
   "source": [
    "name.upper()"
   ]
  },
  {
   "cell_type": "code",
   "execution_count": 15,
   "id": "f3533882-b959-4038-b0fb-c695b997fd21",
   "metadata": {},
   "outputs": [],
   "source": [
    "name = name.upper()"
   ]
  },
  {
   "cell_type": "code",
   "execution_count": 17,
   "id": "bccacfa5-81ca-4658-9619-ad27ddbcc01e",
   "metadata": {},
   "outputs": [
    {
     "data": {
      "text/plain": [
       "'PRATIK KAMBLE'"
      ]
     },
     "execution_count": 17,
     "metadata": {},
     "output_type": "execute_result"
    }
   ],
   "source": [
    "name"
   ]
  },
  {
   "cell_type": "code",
   "execution_count": 19,
   "id": "7206ddaa-3999-47be-8b70-7c2091bda5f1",
   "metadata": {},
   "outputs": [
    {
     "data": {
      "text/plain": [
       "'PRATIK KAMBLE'"
      ]
     },
     "execution_count": 19,
     "metadata": {},
     "output_type": "execute_result"
    }
   ],
   "source": [
    "name"
   ]
  },
  {
   "cell_type": "code",
   "execution_count": 21,
   "id": "2a4fae2f-ab6d-481e-b6aa-4b5acfb43f81",
   "metadata": {},
   "outputs": [
    {
     "data": {
      "text/plain": [
       "'pratik kamble'"
      ]
     },
     "execution_count": 21,
     "metadata": {},
     "output_type": "execute_result"
    }
   ],
   "source": [
    "name.lower()"
   ]
  },
  {
   "cell_type": "code",
   "execution_count": 23,
   "id": "4210ed1c-95e7-453b-acd0-87d6861a03c0",
   "metadata": {},
   "outputs": [
    {
     "data": {
      "text/plain": [
       "'PRATIK KAMBLE'"
      ]
     },
     "execution_count": 23,
     "metadata": {},
     "output_type": "execute_result"
    }
   ],
   "source": [
    "name"
   ]
  },
  {
   "cell_type": "code",
   "execution_count": 25,
   "id": "bb2a36a5-02cf-41ed-9b99-c360d4dbde4f",
   "metadata": {},
   "outputs": [],
   "source": [
    "name = name.lower()"
   ]
  },
  {
   "cell_type": "code",
   "execution_count": 27,
   "id": "b29acc44-d7d9-46ec-8679-3b7a6b4dbbd2",
   "metadata": {},
   "outputs": [
    {
     "data": {
      "text/plain": [
       "'pratik kamble'"
      ]
     },
     "execution_count": 27,
     "metadata": {},
     "output_type": "execute_result"
    }
   ],
   "source": [
    "name"
   ]
  },
  {
   "cell_type": "code",
   "execution_count": 29,
   "id": "799ae6b9-6e9d-413b-8a13-9fca21930b3e",
   "metadata": {},
   "outputs": [],
   "source": [
    "name1= \"KRinSna ganBOTe\""
   ]
  },
  {
   "cell_type": "code",
   "execution_count": 31,
   "id": "5bcc48cc-30ae-49d3-980f-b24b670bed69",
   "metadata": {},
   "outputs": [
    {
     "data": {
      "text/plain": [
       "'KRinSna ganBOTe'"
      ]
     },
     "execution_count": 31,
     "metadata": {},
     "output_type": "execute_result"
    }
   ],
   "source": [
    "name1"
   ]
  },
  {
   "cell_type": "code",
   "execution_count": 33,
   "id": "c2d5c387-057a-4617-87bc-4c29db332140",
   "metadata": {},
   "outputs": [
    {
     "data": {
      "text/plain": [
       "'krINsNA GANbotE'"
      ]
     },
     "execution_count": 33,
     "metadata": {},
     "output_type": "execute_result"
    }
   ],
   "source": [
    "# capital letter should become small and vice versa\n",
    "name1.swapcase()"
   ]
  },
  {
   "cell_type": "code",
   "execution_count": 35,
   "id": "6549663a-d58a-4081-910b-9f7f66516070",
   "metadata": {},
   "outputs": [],
   "source": [
    "name2 = \"       Vijayalaxmi     Gurav       \""
   ]
  },
  {
   "cell_type": "code",
   "execution_count": 37,
   "id": "6a92ee73-e572-491b-873c-7eacbd7d4881",
   "metadata": {},
   "outputs": [
    {
     "data": {
      "text/plain": [
       "'       Vijayalaxmi     Gurav       '"
      ]
     },
     "execution_count": 37,
     "metadata": {},
     "output_type": "execute_result"
    }
   ],
   "source": [
    "name2"
   ]
  },
  {
   "cell_type": "code",
   "execution_count": 39,
   "id": "d62f5013-26d2-450c-82e2-f13691124808",
   "metadata": {},
   "outputs": [
    {
     "data": {
      "text/plain": [
       "'Vijayalaxmi     Gurav       '"
      ]
     },
     "execution_count": 39,
     "metadata": {},
     "output_type": "execute_result"
    }
   ],
   "source": [
    "#1. remove left space\n",
    "# 2. remove right space\n",
    "# 3. remove both left and right space\n",
    "name2.lstrip()"
   ]
  },
  {
   "cell_type": "code",
   "execution_count": 41,
   "id": "09c49d8c-6ffd-452f-b2ca-e7819587d2c7",
   "metadata": {},
   "outputs": [
    {
     "data": {
      "text/plain": [
       "'       Vijayalaxmi     Gurav'"
      ]
     },
     "execution_count": 41,
     "metadata": {},
     "output_type": "execute_result"
    }
   ],
   "source": [
    "name2.rstrip()"
   ]
  },
  {
   "cell_type": "code",
   "execution_count": 43,
   "id": "8ba11aea-5282-4be2-97c5-2b49cf67c0c6",
   "metadata": {},
   "outputs": [
    {
     "data": {
      "text/plain": [
       "'Vijayalaxmi     Gurav'"
      ]
     },
     "execution_count": 43,
     "metadata": {},
     "output_type": "execute_result"
    }
   ],
   "source": [
    "name2.strip()"
   ]
  },
  {
   "cell_type": "code",
   "execution_count": 45,
   "id": "8d2378d0-1a47-4add-ad67-18f66014dfc6",
   "metadata": {},
   "outputs": [
    {
     "data": {
      "text/plain": [
       "'       Vijayalaxmi     Gurav       '"
      ]
     },
     "execution_count": 45,
     "metadata": {},
     "output_type": "execute_result"
    }
   ],
   "source": [
    "name2"
   ]
  },
  {
   "cell_type": "code",
   "execution_count": 51,
   "id": "6afa2924-bf30-4057-bded-3465ea5cd81a",
   "metadata": {},
   "outputs": [
    {
     "data": {
      "text/plain": [
       "'  Prathamesh Macharla  '"
      ]
     },
     "execution_count": 51,
     "metadata": {},
     "output_type": "execute_result"
    }
   ],
   "source": [
    "name3 = \"  Prathamesh Macharla  \"\n",
    "name3"
   ]
  },
  {
   "cell_type": "code",
   "execution_count": 55,
   "id": "b467bb3f-ef81-40f4-93e2-0b2db8d91896",
   "metadata": {},
   "outputs": [],
   "source": [
    "# Bring this output\n",
    "# **** Prathamesh Macharla ****"
   ]
  },
  {
   "cell_type": "code",
   "execution_count": 59,
   "id": "e4ad8040-77b5-45e0-a2ed-beda56757de9",
   "metadata": {},
   "outputs": [
    {
     "data": {
      "text/plain": [
       "'*************  Prathamesh Macharla  **************'"
      ]
     },
     "execution_count": 59,
     "metadata": {},
     "output_type": "execute_result"
    }
   ],
   "source": [
    "name3.center(50, '*')"
   ]
  },
  {
   "cell_type": "code",
   "execution_count": 61,
   "id": "9cab560f-e02a-4fe9-b125-291b6a048c5b",
   "metadata": {},
   "outputs": [
    {
     "data": {
      "text/plain": [
       "'  Prathamesh Macharla  '"
      ]
     },
     "execution_count": 61,
     "metadata": {},
     "output_type": "execute_result"
    }
   ],
   "source": [
    "name3"
   ]
  },
  {
   "cell_type": "code",
   "execution_count": 63,
   "id": "fc3940c0-5996-4f11-ad7b-0fdc114c9fbf",
   "metadata": {},
   "outputs": [],
   "source": [
    "name4 = \"Shreya Nagame\""
   ]
  },
  {
   "cell_type": "code",
   "execution_count": 65,
   "id": "acde5829-4e8b-4cec-97b6-6fdd962d4f5c",
   "metadata": {},
   "outputs": [
    {
     "data": {
      "text/plain": [
       "False"
      ]
     },
     "execution_count": 65,
     "metadata": {},
     "output_type": "execute_result"
    }
   ],
   "source": [
    "name4.islower()"
   ]
  },
  {
   "cell_type": "code",
   "execution_count": 67,
   "id": "efe863c0-899b-4ece-b251-263099e39329",
   "metadata": {},
   "outputs": [],
   "source": [
    "name5 = \"shreya\""
   ]
  },
  {
   "cell_type": "code",
   "execution_count": 69,
   "id": "626cad77-23c0-4bc2-8af6-dfce9b3f3e08",
   "metadata": {},
   "outputs": [
    {
     "data": {
      "text/plain": [
       "True"
      ]
     },
     "execution_count": 69,
     "metadata": {},
     "output_type": "execute_result"
    }
   ],
   "source": [
    "name5.islower()"
   ]
  },
  {
   "cell_type": "code",
   "execution_count": 71,
   "id": "f763a578-ef4a-41d1-91bb-97d5c93e4f9e",
   "metadata": {},
   "outputs": [
    {
     "data": {
      "text/plain": [
       "'Shreya Nagame'"
      ]
     },
     "execution_count": 71,
     "metadata": {},
     "output_type": "execute_result"
    }
   ],
   "source": [
    "name4"
   ]
  },
  {
   "cell_type": "code",
   "execution_count": 73,
   "id": "8cb6dd05-4d1f-4dcf-9210-7af7ee1ddebf",
   "metadata": {},
   "outputs": [
    {
     "data": {
      "text/plain": [
       "False"
      ]
     },
     "execution_count": 73,
     "metadata": {},
     "output_type": "execute_result"
    }
   ],
   "source": [
    "name4.isupper()"
   ]
  },
  {
   "cell_type": "code",
   "execution_count": 75,
   "id": "d4b179d8-7ed2-4b6d-a4b8-65a87c8a1a20",
   "metadata": {},
   "outputs": [],
   "source": [
    "name5 = \"SHREYA\""
   ]
  },
  {
   "cell_type": "code",
   "execution_count": 77,
   "id": "c1f9f9a1-cdd1-48c9-8fbb-b4b68b9bb0c4",
   "metadata": {},
   "outputs": [
    {
     "data": {
      "text/plain": [
       "True"
      ]
     },
     "execution_count": 77,
     "metadata": {},
     "output_type": "execute_result"
    }
   ],
   "source": [
    "name5.isupper()"
   ]
  },
  {
   "cell_type": "code",
   "execution_count": 79,
   "id": "6d76fd4f-9487-43ef-ae58-9d76c51c494d",
   "metadata": {},
   "outputs": [
    {
     "data": {
      "text/plain": [
       "False"
      ]
     },
     "execution_count": 79,
     "metadata": {},
     "output_type": "execute_result"
    }
   ],
   "source": [
    "name4.isspace()"
   ]
  },
  {
   "cell_type": "code",
   "execution_count": 81,
   "id": "d4c8d1c7-c46b-42cf-8cda-97661fbee4f2",
   "metadata": {},
   "outputs": [
    {
     "data": {
      "text/plain": [
       "'Shreya Nagame'"
      ]
     },
     "execution_count": 81,
     "metadata": {},
     "output_type": "execute_result"
    }
   ],
   "source": [
    "name4"
   ]
  },
  {
   "cell_type": "code",
   "execution_count": 83,
   "id": "932a2327-1c5a-465f-9518-00eff8bc69b7",
   "metadata": {},
   "outputs": [],
   "source": [
    "a = \"      \""
   ]
  },
  {
   "cell_type": "code",
   "execution_count": null,
   "id": "8956cf10-eede-4dc6-8ef8-55463dea89ce",
   "metadata": {},
   "outputs": [],
   "source": [
    "a.isspace()"
   ]
  }
 ],
 "metadata": {
  "kernelspec": {
   "display_name": "Python 3 (ipykernel)",
   "language": "python",
   "name": "python3"
  },
  "language_info": {
   "codemirror_mode": {
    "name": "ipython",
    "version": 3
   },
   "file_extension": ".py",
   "mimetype": "text/x-python",
   "name": "python",
   "nbconvert_exporter": "python",
   "pygments_lexer": "ipython3",
   "version": "3.12.4"
  }
 },
 "nbformat": 4,
 "nbformat_minor": 5
}
