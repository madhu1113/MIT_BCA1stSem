{
 "cells": [
  {
   "cell_type": "code",
   "execution_count": 1,
   "id": "984b9f8a-a71b-4cdd-89f7-f6a99d84dc00",
   "metadata": {},
   "outputs": [],
   "source": [
    "a = 2"
   ]
  },
  {
   "cell_type": "code",
   "execution_count": 7,
   "id": "5385b405-1fa4-433b-b2b5-81086e35b006",
   "metadata": {},
   "outputs": [
    {
     "name": "stdout",
     "output_type": "stream",
     "text": [
      "2\n"
     ]
    }
   ],
   "source": [
    "# library function or inbuilt function\n",
    "print(a)"
   ]
  },
  {
   "cell_type": "code",
   "execution_count": 9,
   "id": "45b729c9-ed43-4539-aa6f-63041d4a8f6b",
   "metadata": {},
   "outputs": [
    {
     "name": "stdout",
     "output_type": "stream",
     "text": [
      "Shivraj gadge\n"
     ]
    }
   ],
   "source": [
    "print(\"Shivraj gadge\")"
   ]
  },
  {
   "cell_type": "code",
   "execution_count": 11,
   "id": "04383383-1e7e-4cdb-92ab-8e9290b632fc",
   "metadata": {},
   "outputs": [],
   "source": [
    "name = \"Shivraj gadge\"\n"
   ]
  },
  {
   "cell_type": "code",
   "execution_count": 17,
   "id": "90075df7-3239-4886-b213-2e2566899bc1",
   "metadata": {},
   "outputs": [
    {
     "name": "stdout",
     "output_type": "stream",
     "text": [
      "Shivraj gadge\n"
     ]
    }
   ],
   "source": [
    "print(name)"
   ]
  },
  {
   "cell_type": "code",
   "execution_count": 15,
   "id": "6ec6bdae-ff4c-401e-b09f-cc31dabc7735",
   "metadata": {},
   "outputs": [
    {
     "data": {
      "text/plain": [
       "'Shivraj gadge'"
      ]
     },
     "execution_count": 15,
     "metadata": {},
     "output_type": "execute_result"
    }
   ],
   "source": [
    "name"
   ]
  },
  {
   "cell_type": "code",
   "execution_count": 23,
   "id": "54554ee2-53c7-4e0e-b4c0-0058d7c2a3af",
   "metadata": {},
   "outputs": [],
   "source": [
    "a, b , c = 5,4,7"
   ]
  },
  {
   "cell_type": "code",
   "execution_count": 25,
   "id": "7d346de4-e815-4fb8-9753-0248894319b2",
   "metadata": {},
   "outputs": [],
   "source": [
    "a = b = c = 7"
   ]
  },
  {
   "cell_type": "code",
   "execution_count": 33,
   "id": "8fbc801b-6374-4aca-9b26-a88a30ed715c",
   "metadata": {},
   "outputs": [
    {
     "name": "stdout",
     "output_type": "stream",
     "text": [
      "7,7,7\n"
     ]
    }
   ],
   "source": [
    "print(a,b,c, sep=',')"
   ]
  },
  {
   "cell_type": "code",
   "execution_count": 35,
   "id": "22ba0485-205b-4c04-8c3f-9a5c3764e118",
   "metadata": {},
   "outputs": [
    {
     "name": "stdout",
     "output_type": "stream",
     "text": [
      "7@7@7\n"
     ]
    }
   ],
   "source": [
    "print(a,b,c,sep='@')"
   ]
  },
  {
   "cell_type": "code",
   "execution_count": 39,
   "id": "7a826c8b-bcc1-4889-8cbd-ac719c42cb82",
   "metadata": {},
   "outputs": [
    {
     "name": "stdout",
     "output_type": "stream",
     "text": [
      "456789\n"
     ]
    }
   ],
   "source": [
    "print(45,67,89, sep = \"\")"
   ]
  },
  {
   "cell_type": "code",
   "execution_count": 55,
   "id": "883e368c-7340-4734-8d16-221f0b9deaaf",
   "metadata": {},
   "outputs": [
    {
     "name": "stdout",
     "output_type": "stream",
     "text": [
      "Shivraj gadge\tVaishnavi Sharma\n",
      "Vaishnavi Sharma\n"
     ]
    }
   ],
   "source": [
    "print('Shivraj gadge', end='\\t') \n",
    "print(\"Vaishnavi Sharma\")\n",
    "print(\"Vaishnavi Sharma\")"
   ]
  },
  {
   "cell_type": "code",
   "execution_count": 69,
   "id": "99937bbe-a7ee-4218-94b8-93db4bd97938",
   "metadata": {},
   "outputs": [
    {
     "name": "stdout",
     "output_type": "stream",
     "text": [
      "Enter Two Nos.\n"
     ]
    },
    {
     "name": "stdin",
     "output_type": "stream",
     "text": [
      "input the value of a 45\n",
      "input the value of b 78\n"
     ]
    },
    {
     "name": "stdout",
     "output_type": "stream",
     "text": [
      "123\n"
     ]
    }
   ],
   "source": [
    "# Write code to add 2 nos.\n",
    "print(\"Enter Two Nos.\")\n",
    "a = int(input(\"input the value of a\"))\n",
    "b = int(input(\"input the value of b\"))\n",
    "c = a + b\n",
    "print(c)"
   ]
  },
  {
   "cell_type": "code",
   "execution_count": null,
   "id": "ba386a14-dd65-47d4-8625-5179c64c7fb8",
   "metadata": {},
   "outputs": [],
   "source": []
  }
 ],
 "metadata": {
  "kernelspec": {
   "display_name": "Python 3 (ipykernel)",
   "language": "python",
   "name": "python3"
  },
  "language_info": {
   "codemirror_mode": {
    "name": "ipython",
    "version": 3
   },
   "file_extension": ".py",
   "mimetype": "text/x-python",
   "name": "python",
   "nbconvert_exporter": "python",
   "pygments_lexer": "ipython3",
   "version": "3.12.4"
  }
 },
 "nbformat": 4,
 "nbformat_minor": 5
}
