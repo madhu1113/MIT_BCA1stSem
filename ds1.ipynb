{
 "cells": [
  {
   "cell_type": "code",
   "execution_count": 13,
   "id": "09bcf253-1cdb-482d-bc08-a5366fd35063",
   "metadata": {},
   "outputs": [],
   "source": [
    "a = []"
   ]
  },
  {
   "cell_type": "code",
   "execution_count": 15,
   "id": "58a51cf6-c8b2-4e03-a554-fe9c2e7ffb4d",
   "metadata": {},
   "outputs": [
    {
     "data": {
      "text/plain": [
       "list"
      ]
     },
     "execution_count": 15,
     "metadata": {},
     "output_type": "execute_result"
    }
   ],
   "source": [
    "type(a)"
   ]
  },
  {
   "cell_type": "code",
   "execution_count": 17,
   "id": "09a6db5a-c7a2-4098-ab69-7a179b235423",
   "metadata": {},
   "outputs": [],
   "source": [
    "a = [1,67,34, \"Dipti\", 56.7, True, \"Aditi\", 678]"
   ]
  },
  {
   "cell_type": "code",
   "execution_count": 25,
   "id": "75ee3559-5f62-493c-a45d-de03155569c6",
   "metadata": {},
   "outputs": [
    {
     "data": {
      "text/plain": [
       "float"
      ]
     },
     "execution_count": 25,
     "metadata": {},
     "output_type": "execute_result"
    }
   ],
   "source": [
    "# Access 56.7 from a\n",
    "type(a[4])"
   ]
  },
  {
   "cell_type": "code",
   "execution_count": 21,
   "id": "b542a677-deef-46e9-9dec-92f2a75dc3a0",
   "metadata": {},
   "outputs": [
    {
     "data": {
      "text/plain": [
       "1"
      ]
     },
     "execution_count": 21,
     "metadata": {},
     "output_type": "execute_result"
    }
   ],
   "source": [
    "a[0]"
   ]
  },
  {
   "cell_type": "code",
   "execution_count": 23,
   "id": "b6e7f1fd-f336-4d1f-85cd-67aaa0dcd2bd",
   "metadata": {},
   "outputs": [
    {
     "data": {
      "text/plain": [
       "'Dipti'"
      ]
     },
     "execution_count": 23,
     "metadata": {},
     "output_type": "execute_result"
    }
   ],
   "source": [
    "a[-5]"
   ]
  },
  {
   "cell_type": "code",
   "execution_count": null,
   "id": "c438f291-b274-437c-a2cb-bff32b749548",
   "metadata": {},
   "outputs": [],
   "source": []
  }
 ],
 "metadata": {
  "kernelspec": {
   "display_name": "Python 3 (ipykernel)",
   "language": "python",
   "name": "python3"
  },
  "language_info": {
   "codemirror_mode": {
    "name": "ipython",
    "version": 3
   },
   "file_extension": ".py",
   "mimetype": "text/x-python",
   "name": "python",
   "nbconvert_exporter": "python",
   "pygments_lexer": "ipython3",
   "version": "3.12.4"
  }
 },
 "nbformat": 4,
 "nbformat_minor": 5
}
